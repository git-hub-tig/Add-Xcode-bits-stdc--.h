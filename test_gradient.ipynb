{
  "nbformat": 4,
  "nbformat_minor": 0,
  "metadata": {
    "colab": {
      "provenance": [],
      "authorship_tag": "ABX9TyOxCL2YiIbEUglsW6Owy54B",
      "include_colab_link": true
    },
    "kernelspec": {
      "name": "python3",
      "display_name": "Python 3"
    },
    "language_info": {
      "name": "python"
    }
  },
  "cells": [
    {
      "cell_type": "markdown",
      "metadata": {
        "id": "view-in-github",
        "colab_type": "text"
      },
      "source": [
        "<a href=\"https://colab.research.google.com/github/git-hub-tig/Add-Xcode-bits-stdc--.h/blob/main/test_gradient.ipynb\" target=\"_parent\"><img src=\"https://colab.research.google.com/assets/colab-badge.svg\" alt=\"Open In Colab\"/></a>"
      ]
    },
    {
      "cell_type": "code",
      "source": [
        "'''\n",
        "    torch.optim.SGD\n",
        "'''\n",
        "\n",
        "import os\n",
        "import torch\n",
        "import torch.nn as nn\n",
        "import matplotlib.pyplot as plt\n",
        "from torch.utils.data import Dataset, DataLoader\n"
      ],
      "metadata": {
        "id": "3yAf8xzGjuGw"
      },
      "execution_count": null,
      "outputs": []
    },
    {
      "cell_type": "code",
      "source": [
        "\n",
        "\n",
        "# 1. 创建数据集\n",
        "def create_linear_data(nums_data, if_plot=False):\n",
        "    \"\"\"\n",
        "    Create data for linear model\n",
        "    Args:\n",
        "        nums_data: how many data points that wanted\n",
        "    Returns:\n",
        "        x with shape (nums_data, 1)\n",
        "    \"\"\"\n",
        "    x = torch.linspace(2, 10, nums_data)\n",
        "    x = torch.unsqueeze(x,dim=1)\n",
        "    k = 2\n",
        "    y = k * x + torch.rand(x.size())\n",
        "\n",
        "    if if_plot:\n",
        "        plt.scatter(x.numpy(),y.numpy(),c=x.numpy())\n",
        "        plt.show()\n",
        "    # data = torch.cat([x, y], dim=1)\n",
        "    datax = x\n",
        "    datay = y\n",
        "    return datax, datay\n",
        "\n",
        "\n",
        "datax, datay = create_linear_data(10, if_plot=False)\n",
        "length = len(datax)\n",
        "\n",
        "\n",
        "# 2. Dummy DataSet\n",
        "class LinearDataset(Dataset):\n",
        "\n",
        "    def __init__(self, length, datax, datay):\n",
        "        self.len = length\n",
        "        self.datax = datax\n",
        "        self.datay = datay\n",
        "\n",
        "    def __getitem__(self, index):\n",
        "        datax = self.datax[index]\n",
        "        datay = self.datay[index]\n",
        "        return {'x': datax, 'y': datay}\n",
        "\n",
        "    def __len__(self):\n",
        "        return self.len\n",
        "\n",
        "\n",
        "# 3. Parameters and DataLoaders\n",
        "batch_size = 3\n",
        "device = torch.device(\"cuda:0\" if torch.cuda.is_available() else \"cpu\")\n",
        "linear_loader = DataLoader(dataset=LinearDataset(length, datax, datay),\n",
        "                         batch_size=batch_size, shuffle=True)\n",
        "\n",
        "\n"
      ],
      "metadata": {
        "id": "Ek8G6vYzj293"
      },
      "execution_count": null,
      "outputs": []
    },
    {
      "cell_type": "code",
      "source": [
        "# 4. model\n",
        "class Model(torch.nn.Module):\n",
        "    \"\"\"\n",
        "    Linear Regressoin Module, the input features and output\n",
        "    features are defaults both 1\n",
        "    \"\"\"\n",
        "    def __init__(self):\n",
        "        super().__init__()\n",
        "        self.linear = torch.nn.Linear(1, 1)\n",
        "\n",
        "    def forward(self, input):\n",
        "        output = self.linear(input)\n",
        "        print(\"In Model: #############################################\")\n",
        "        print(\"input: \", input.size(), \"output: \", output.size())\n",
        "        return output\n",
        "\n",
        "model = Model()\n",
        "# model = torch.nn.DataParallel(model, device_ids=device_ids)\n",
        "model.cuda()\n",
        "\n",
        "\n",
        "# 6. loss && optimizer\n",
        "loss = torch.nn.MSELoss()\n",
        "optimizer = torch.optim.SGD(model.parameters(), lr=0.001)\n",
        "\n"
      ],
      "metadata": {
        "id": "4cAfp8FHj9Nn"
      },
      "execution_count": null,
      "outputs": []
    },
    {
      "cell_type": "code",
      "execution_count": null,
      "metadata": {
        "id": "oaX6Myu8hysX"
      },
      "outputs": [],
      "source": [
        "\n",
        "# 7. train\n",
        "Linear_loss = []\n",
        "for i in range(10):\n",
        "    # print(\"epoch: %d\\n\", i)\n",
        "    for data in linear_loader:\n",
        "        x, y = data['x'], data['y']\n",
        "        x = x.cuda()\n",
        "        y = y.cuda()\n",
        "        y_pred = model(x)\n",
        "        lloss = loss(y_pred, y)\n",
        "        optimizer.zero_grad()\n",
        "        lloss.backward()\n",
        "        for param in model.parameters():  # before optimize\n",
        "            print(param.item())\n",
        "        optimizer.step()\n",
        "        for param in model.parameters():  # after optimize\n",
        "            print(param.item())\n",
        "        Linear_loss.append(lloss.item())\n",
        "        print(\"Out--->input size:\", x.size(), \"output_size:\", y_pred.size())\n",
        "\n",
        "\n",
        "\n"
      ]
    },
    {
      "cell_type": "code",
      "source": [
        "# 8. plot\n",
        "loss_len = len(Linear_loss)\n",
        "axis_x = range(loss_len)\n",
        "plt.plot(axis_x, Linear_loss)\n",
        "plt.show()"
      ],
      "metadata": {
        "id": "bnpq17wBjs7c"
      },
      "execution_count": null,
      "outputs": []
    }
  ]
}